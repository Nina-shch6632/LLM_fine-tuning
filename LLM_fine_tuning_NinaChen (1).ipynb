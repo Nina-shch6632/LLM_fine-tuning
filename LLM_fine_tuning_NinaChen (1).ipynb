{
  "nbformat": 4,
  "nbformat_minor": 0,
  "metadata": {
    "colab": {
      "provenance": [],
      "gpuType": "T4"
    },
    "kernelspec": {
      "name": "python3",
      "display_name": "Python 3"
    },
    "language_info": {
      "name": "python"
    },
    "accelerator": "GPU"
  },
  "cells": [
    {
      "cell_type": "markdown",
      "source": [
        "### Overview\n",
        "In this notebook, I will continue working on prompting large language models (LLMs) such as ChatGPT. Language model prompting is the process of providing a model with an input text and then having the model generate a response as output. Prompting can be used to complete breadth of tasks such as summarization (e.g., “Summarize the following paragraph: <paragraph written out here> Summary:”) or extraction (e.g., “Extract the phone number from the user bio: <bio written out here>.”).\n",
        "\n",
        "The task we are trying to solve in this homework is text rewriting. Specifically, our goal is to rewrite GoFundMe fundraising pitches to different emotions (e.g., sad). There is no off-the-shelf solution. Most studies in the rewriting tasks focus on a particular transformation type within the boundaries of single sentences. However, a fundraising pitch contains 170 words on average (calculated based on pitches in the medical category: https://www.gofundme.com/discover/medical-fundraiser) and each one is a coherent story. We will explore and develop prompts and fine-tuning strategies to enable LLMs to better rewrite GoFundMe fundraising pitches to different emotions.\n",
        "\n",
        "The notebook consists of two parts:\n",
        "\n",
        "1.   Explore prompt engineering: zero-shot, few-shot, and chain-of-thought\n",
        "2.   Explore strategies for LLM fine-tuning\n"
      ],
      "metadata": {
        "id": "YI316SNDAss-"
      }
    },
    {
      "cell_type": "markdown",
      "source": [
        "## Part 0: Task, Data, and Setup\n"
      ],
      "metadata": {
        "id": "IQdfglT0BAfl"
      }
    },
    {
      "cell_type": "markdown",
      "source": [
        "### Task\n",
        "Rewrite GoFundMe fundraising pitches to different emotions. We work with the following eight types of emotions: “fear, love, sadness, surprise, optimism, gratitude, anger, joy”\n"
      ],
      "metadata": {
        "id": "Zwn2BsYzBGb2"
      }
    },
    {
      "cell_type": "markdown",
      "source": [
        "###Data\n",
        "\n",
        "We provide you with two datasets to play with:\n",
        "1.   Development set. We provide you with eight random stories from GoFundMe.\n",
        "2.   A sample of 800 stories from GoFundMe that are associated with the eight emotions.\n",
        "\n",
        "\n",
        "\n",
        "\n",
        "\n"
      ],
      "metadata": {
        "id": "C65BLz92BH5a"
      }
    },
    {
      "cell_type": "markdown",
      "source": [
        "### Setup"
      ],
      "metadata": {
        "id": "Mp2f-Zc5BUxu"
      }
    },
    {
      "cell_type": "markdown",
      "source": [
        "1. Install dependencies"
      ],
      "metadata": {
        "id": "ZQco85yEBezt"
      }
    },
    {
      "cell_type": "code",
      "source": [
        "!pip3 install openai"
      ],
      "metadata": {
        "id": "EHXtGSNyBtTa",
        "colab": {
          "base_uri": "https://localhost:8080/"
        },
        "outputId": "b0768f3f-9237-497f-e64e-c1189183319b"
      },
      "execution_count": null,
      "outputs": [
        {
          "output_type": "stream",
          "name": "stdout",
          "text": [
            "Collecting openai\n",
            "  Downloading openai-1.23.2-py3-none-any.whl (311 kB)\n",
            "\u001b[2K     \u001b[90m━━━━━━━━━━━━━━━━━━━━━━━━━━━━━━━━━━━━━━━━\u001b[0m \u001b[32m311.2/311.2 kB\u001b[0m \u001b[31m2.3 MB/s\u001b[0m eta \u001b[36m0:00:00\u001b[0m\n",
            "\u001b[?25hRequirement already satisfied: anyio<5,>=3.5.0 in /usr/local/lib/python3.10/dist-packages (from openai) (3.7.1)\n",
            "Requirement already satisfied: distro<2,>=1.7.0 in /usr/lib/python3/dist-packages (from openai) (1.7.0)\n",
            "Collecting httpx<1,>=0.23.0 (from openai)\n",
            "  Downloading httpx-0.27.0-py3-none-any.whl (75 kB)\n",
            "\u001b[2K     \u001b[90m━━━━━━━━━━━━━━━━━━━━━━━━━━━━━━━━━━━━━━━━\u001b[0m \u001b[32m75.6/75.6 kB\u001b[0m \u001b[31m6.7 MB/s\u001b[0m eta \u001b[36m0:00:00\u001b[0m\n",
            "\u001b[?25hRequirement already satisfied: pydantic<3,>=1.9.0 in /usr/local/lib/python3.10/dist-packages (from openai) (2.7.0)\n",
            "Requirement already satisfied: sniffio in /usr/local/lib/python3.10/dist-packages (from openai) (1.3.1)\n",
            "Requirement already satisfied: tqdm>4 in /usr/local/lib/python3.10/dist-packages (from openai) (4.66.2)\n",
            "Requirement already satisfied: typing-extensions<5,>=4.7 in /usr/local/lib/python3.10/dist-packages (from openai) (4.11.0)\n",
            "Requirement already satisfied: idna>=2.8 in /usr/local/lib/python3.10/dist-packages (from anyio<5,>=3.5.0->openai) (3.7)\n",
            "Requirement already satisfied: exceptiongroup in /usr/local/lib/python3.10/dist-packages (from anyio<5,>=3.5.0->openai) (1.2.1)\n",
            "Requirement already satisfied: certifi in /usr/local/lib/python3.10/dist-packages (from httpx<1,>=0.23.0->openai) (2024.2.2)\n",
            "Collecting httpcore==1.* (from httpx<1,>=0.23.0->openai)\n",
            "  Downloading httpcore-1.0.5-py3-none-any.whl (77 kB)\n",
            "\u001b[2K     \u001b[90m━━━━━━━━━━━━━━━━━━━━━━━━━━━━━━━━━━━━━━━━\u001b[0m \u001b[32m77.9/77.9 kB\u001b[0m \u001b[31m7.8 MB/s\u001b[0m eta \u001b[36m0:00:00\u001b[0m\n",
            "\u001b[?25hCollecting h11<0.15,>=0.13 (from httpcore==1.*->httpx<1,>=0.23.0->openai)\n",
            "  Downloading h11-0.14.0-py3-none-any.whl (58 kB)\n",
            "\u001b[2K     \u001b[90m━━━━━━━━━━━━━━━━━━━━━━━━━━━━━━━━━━━━━━━━\u001b[0m \u001b[32m58.3/58.3 kB\u001b[0m \u001b[31m5.2 MB/s\u001b[0m eta \u001b[36m0:00:00\u001b[0m\n",
            "\u001b[?25hRequirement already satisfied: annotated-types>=0.4.0 in /usr/local/lib/python3.10/dist-packages (from pydantic<3,>=1.9.0->openai) (0.6.0)\n",
            "Requirement already satisfied: pydantic-core==2.18.1 in /usr/local/lib/python3.10/dist-packages (from pydantic<3,>=1.9.0->openai) (2.18.1)\n",
            "Installing collected packages: h11, httpcore, httpx, openai\n",
            "Successfully installed h11-0.14.0 httpcore-1.0.5 httpx-0.27.0 openai-1.23.2\n"
          ]
        }
      ]
    },
    {
      "cell_type": "markdown",
      "source": [
        "2. Import necessary libraries, define helper function, and data\n",
        "\n",
        "Next, import the necessary libraries into your Jupyter notebook. You will need to import the following libraries"
      ],
      "metadata": {
        "id": "1LjiscaxBx8S"
      }
    },
    {
      "cell_type": "code",
      "source": [
        "!pip install python-dotenv"
      ],
      "metadata": {
        "colab": {
          "base_uri": "https://localhost:8080/"
        },
        "id": "Nhn3yVvTwXMk",
        "outputId": "9f68c117-ba39-4f20-f1c7-0da5a01e9079"
      },
      "execution_count": null,
      "outputs": [
        {
          "output_type": "stream",
          "name": "stdout",
          "text": [
            "Collecting python-dotenv\n",
            "  Downloading python_dotenv-1.0.1-py3-none-any.whl (19 kB)\n",
            "Installing collected packages: python-dotenv\n",
            "Successfully installed python-dotenv-1.0.1\n"
          ]
        }
      ]
    },
    {
      "cell_type": "code",
      "source": [
        "from openai import OpenAI\n",
        "\n",
        "# This is my personal API keys. Please consider use your own when running\n",
        "# experiments.\n",
        "\n",
        "client = OpenAI(\n",
        "    api_key = ''\n",
        ")"
      ],
      "metadata": {
        "id": "2Ju3_EJHDU4j"
      },
      "execution_count": null,
      "outputs": []
    },
    {
      "cell_type": "markdown",
      "source": [
        "We use OpenAI's gpt-3.5-turbo model and the chat completions endpoint in this example. You can also use gpt-4 but please be mindful of usage.\n",
        "\n",
        "This helper function will make it easier to use prompts and look at the generated outputs:"
      ],
      "metadata": {
        "id": "y56az7Z7CGYT"
      }
    },
    {
      "cell_type": "code",
      "source": [
        "model_version = \"gpt-3.5-turbo\" # GPT-3.5\n",
        "\n",
        "def get_completion(prompt, model=model_version):\n",
        "  completion = client.chat.completions.create(\n",
        "      model = model_version,\n",
        "      messages=[\n",
        "          {\n",
        "              \"role\": \"user\",\n",
        "              \"content\": prompt,\n",
        "          }\n",
        "      ],\n",
        "      temperature=0, # this is the degree of randomness of the model's output\n",
        "  )\n",
        "  return completion.choices[0].message.content"
      ],
      "metadata": {
        "id": "ZuTve1mTCIhQ"
      },
      "execution_count": null,
      "outputs": []
    },
    {
      "cell_type": "markdown",
      "source": [
        "## Part I: Prompt Development\n",
        "\n",
        "In Part I, please develop and improve upon prompts to rewrite GoFundMe fundraising pitches to different emotions, using the development set. Your deliverables include:\n",
        "1.    Process. A description of different prompting strategies/prompts you tried in arriving at your final prompts.\n",
        "2.    Prompts. You should propose at least 3 prompts.\n",
        "3.    Results. For each prompt, report the rewritten text of the stories in the development set and your ratings of the rewritten text on a scale from 1 to 5, where 1 means not good and 5 means good. We ask you to privide three ratings: 1) instruction success: whether the rewrite accurately follows the instruction and conveys the target emotion that you asked for; 2) content preservation: wehther the content of the story (e.g., events, figures, topics) is preserved in the rewrite, independent of the emotion conveyed in the story ; 3) overall rating, considering both 1) and 2) and many other factors that you consider important for text rewrite task. See “Other things to consider” under “Useful resources”.\n",
        "\n",
        "4.    Error analysis. Analyze the trends you observe from the results of all the prompts. For example, why do some prompts work better than others? What are some common problems that exist in the prompts?  Do some prompts do better on a specific case than others? Finally, what did you learn from this prompting engineering exercise?\n",
        "\n",
        "\n"
      ],
      "metadata": {
        "id": "QDTrDzLXMX_X"
      }
    },
    {
      "cell_type": "markdown",
      "source": [
        "**Note: You do not need to try your prompts on all the stories in the development set and all the emotions (i.e., 8 x 8). Feel free to work on a subset of the stories and on a few emotions, considering the time you have for this homework.**"
      ],
      "metadata": {
        "id": "BN37nhefYGES"
      }
    },
    {
      "cell_type": "markdown",
      "source": [
        "#### **Submission**\n",
        "\n",
        "Please report your prompts and results in the excel file `prompt_analysis.xlsx` and submit it on Canvas."
      ],
      "metadata": {
        "id": "SfvwITNCCt4D"
      }
    },
    {
      "cell_type": "markdown",
      "source": [
        "#### Useful resources\n",
        "\n",
        "1.   Prompting strategies: zero-shot, few-shots, chain-of-thought, and others (https://platform.openai.com/docs/guides/prompt-engineering, https://www.promptingguide.ai/)\n",
        "2.   Other things to consider\n",
        "  *   Text complexity\n",
        "  *   Length\n",
        "  *   Content preservation: whether the rewritten text preserves the essential content and meaning of the source text\n",
        "  *   Factuality: The rewrite only provides as much information as is present in the reference, without adding anything. It is not misleading and does not make any false statements.\n",
        "  *   Coherence: The rewrite is easy to understand, non-ambiguous, and logically coherent.\n",
        "  *   Fluency: Examines the clarity, grammar, and style of the written answer.\n",
        "3.    Examples and related papers\n",
        "  *   Examples in Lab 6 Prompt Engineering using OpenAI API\n",
        "  *   Figure 7 – Figure 19 in the appendix of paper [3]\n",
        "  *   Paper [4]\n"
      ],
      "metadata": {
        "id": "l4tS9cBpDtjc"
      }
    },
    {
      "cell_type": "code",
      "source": [
        "import pandas as pd\n",
        "\n",
        "gofound = pd.read_csv(\"gofundme_sample.csv\")\n",
        "gofound.head(10)"
      ],
      "metadata": {
        "colab": {
          "base_uri": "https://localhost:8080/",
          "height": 363
        },
        "id": "XEHr1l2137HO",
        "outputId": "cef203fe-5d58-4e7a-f076-4f39721b2d42"
      },
      "execution_count": null,
      "outputs": [
        {
          "output_type": "execute_result",
          "data": {
            "text/plain": [
              "                                             message emotion\n",
              "0  Well, another seizure decided to sneak up on m...    fear\n",
              "1  Not alot know but my sister under went a tripl...    fear\n",
              "2  This morning my mom was rushed to the hospital...    fear\n",
              "3  Hello everyone. I am having surgery on my hear...    fear\n",
              "4  Helen is a 16 year old girl recently diagnosed...    fear\n",
              "5  Hello my name is Jeremy Stone and I'm humbly a...    fear\n",
              "6  Well on June 15 2021 he had his first tonic se...    fear\n",
              "7  Hello, my name is Anthony, and I'm fundraising...    fear\n",
              "8  Hi, My name is Pamela Flores (Pam). I was empl...    fear\n",
              "9  Hi everyone my Katherine I am 26 yrs old ,sing...    fear"
            ],
            "text/html": [
              "\n",
              "  <div id=\"df-14d70344-10ce-4ab3-a13d-4266e811b383\" class=\"colab-df-container\">\n",
              "    <div>\n",
              "<style scoped>\n",
              "    .dataframe tbody tr th:only-of-type {\n",
              "        vertical-align: middle;\n",
              "    }\n",
              "\n",
              "    .dataframe tbody tr th {\n",
              "        vertical-align: top;\n",
              "    }\n",
              "\n",
              "    .dataframe thead th {\n",
              "        text-align: right;\n",
              "    }\n",
              "</style>\n",
              "<table border=\"1\" class=\"dataframe\">\n",
              "  <thead>\n",
              "    <tr style=\"text-align: right;\">\n",
              "      <th></th>\n",
              "      <th>message</th>\n",
              "      <th>emotion</th>\n",
              "    </tr>\n",
              "  </thead>\n",
              "  <tbody>\n",
              "    <tr>\n",
              "      <th>0</th>\n",
              "      <td>Well, another seizure decided to sneak up on m...</td>\n",
              "      <td>fear</td>\n",
              "    </tr>\n",
              "    <tr>\n",
              "      <th>1</th>\n",
              "      <td>Not alot know but my sister under went a tripl...</td>\n",
              "      <td>fear</td>\n",
              "    </tr>\n",
              "    <tr>\n",
              "      <th>2</th>\n",
              "      <td>This morning my mom was rushed to the hospital...</td>\n",
              "      <td>fear</td>\n",
              "    </tr>\n",
              "    <tr>\n",
              "      <th>3</th>\n",
              "      <td>Hello everyone. I am having surgery on my hear...</td>\n",
              "      <td>fear</td>\n",
              "    </tr>\n",
              "    <tr>\n",
              "      <th>4</th>\n",
              "      <td>Helen is a 16 year old girl recently diagnosed...</td>\n",
              "      <td>fear</td>\n",
              "    </tr>\n",
              "    <tr>\n",
              "      <th>5</th>\n",
              "      <td>Hello my name is Jeremy Stone and I'm humbly a...</td>\n",
              "      <td>fear</td>\n",
              "    </tr>\n",
              "    <tr>\n",
              "      <th>6</th>\n",
              "      <td>Well on June 15 2021 he had his first tonic se...</td>\n",
              "      <td>fear</td>\n",
              "    </tr>\n",
              "    <tr>\n",
              "      <th>7</th>\n",
              "      <td>Hello, my name is Anthony, and I'm fundraising...</td>\n",
              "      <td>fear</td>\n",
              "    </tr>\n",
              "    <tr>\n",
              "      <th>8</th>\n",
              "      <td>Hi, My name is Pamela Flores (Pam). I was empl...</td>\n",
              "      <td>fear</td>\n",
              "    </tr>\n",
              "    <tr>\n",
              "      <th>9</th>\n",
              "      <td>Hi everyone my Katherine I am 26 yrs old ,sing...</td>\n",
              "      <td>fear</td>\n",
              "    </tr>\n",
              "  </tbody>\n",
              "</table>\n",
              "</div>\n",
              "    <div class=\"colab-df-buttons\">\n",
              "\n",
              "  <div class=\"colab-df-container\">\n",
              "    <button class=\"colab-df-convert\" onclick=\"convertToInteractive('df-14d70344-10ce-4ab3-a13d-4266e811b383')\"\n",
              "            title=\"Convert this dataframe to an interactive table.\"\n",
              "            style=\"display:none;\">\n",
              "\n",
              "  <svg xmlns=\"http://www.w3.org/2000/svg\" height=\"24px\" viewBox=\"0 -960 960 960\">\n",
              "    <path d=\"M120-120v-720h720v720H120Zm60-500h600v-160H180v160Zm220 220h160v-160H400v160Zm0 220h160v-160H400v160ZM180-400h160v-160H180v160Zm440 0h160v-160H620v160ZM180-180h160v-160H180v160Zm440 0h160v-160H620v160Z\"/>\n",
              "  </svg>\n",
              "    </button>\n",
              "\n",
              "  <style>\n",
              "    .colab-df-container {\n",
              "      display:flex;\n",
              "      gap: 12px;\n",
              "    }\n",
              "\n",
              "    .colab-df-convert {\n",
              "      background-color: #E8F0FE;\n",
              "      border: none;\n",
              "      border-radius: 50%;\n",
              "      cursor: pointer;\n",
              "      display: none;\n",
              "      fill: #1967D2;\n",
              "      height: 32px;\n",
              "      padding: 0 0 0 0;\n",
              "      width: 32px;\n",
              "    }\n",
              "\n",
              "    .colab-df-convert:hover {\n",
              "      background-color: #E2EBFA;\n",
              "      box-shadow: 0px 1px 2px rgba(60, 64, 67, 0.3), 0px 1px 3px 1px rgba(60, 64, 67, 0.15);\n",
              "      fill: #174EA6;\n",
              "    }\n",
              "\n",
              "    .colab-df-buttons div {\n",
              "      margin-bottom: 4px;\n",
              "    }\n",
              "\n",
              "    [theme=dark] .colab-df-convert {\n",
              "      background-color: #3B4455;\n",
              "      fill: #D2E3FC;\n",
              "    }\n",
              "\n",
              "    [theme=dark] .colab-df-convert:hover {\n",
              "      background-color: #434B5C;\n",
              "      box-shadow: 0px 1px 3px 1px rgba(0, 0, 0, 0.15);\n",
              "      filter: drop-shadow(0px 1px 2px rgba(0, 0, 0, 0.3));\n",
              "      fill: #FFFFFF;\n",
              "    }\n",
              "  </style>\n",
              "\n",
              "    <script>\n",
              "      const buttonEl =\n",
              "        document.querySelector('#df-14d70344-10ce-4ab3-a13d-4266e811b383 button.colab-df-convert');\n",
              "      buttonEl.style.display =\n",
              "        google.colab.kernel.accessAllowed ? 'block' : 'none';\n",
              "\n",
              "      async function convertToInteractive(key) {\n",
              "        const element = document.querySelector('#df-14d70344-10ce-4ab3-a13d-4266e811b383');\n",
              "        const dataTable =\n",
              "          await google.colab.kernel.invokeFunction('convertToInteractive',\n",
              "                                                    [key], {});\n",
              "        if (!dataTable) return;\n",
              "\n",
              "        const docLinkHtml = 'Like what you see? Visit the ' +\n",
              "          '<a target=\"_blank\" href=https://colab.research.google.com/notebooks/data_table.ipynb>data table notebook</a>'\n",
              "          + ' to learn more about interactive tables.';\n",
              "        element.innerHTML = '';\n",
              "        dataTable['output_type'] = 'display_data';\n",
              "        await google.colab.output.renderOutput(dataTable, element);\n",
              "        const docLink = document.createElement('div');\n",
              "        docLink.innerHTML = docLinkHtml;\n",
              "        element.appendChild(docLink);\n",
              "      }\n",
              "    </script>\n",
              "  </div>\n",
              "\n",
              "\n",
              "<div id=\"df-3a80dce4-fca2-4cb5-bd47-6788848118e0\">\n",
              "  <button class=\"colab-df-quickchart\" onclick=\"quickchart('df-3a80dce4-fca2-4cb5-bd47-6788848118e0')\"\n",
              "            title=\"Suggest charts\"\n",
              "            style=\"display:none;\">\n",
              "\n",
              "<svg xmlns=\"http://www.w3.org/2000/svg\" height=\"24px\"viewBox=\"0 0 24 24\"\n",
              "     width=\"24px\">\n",
              "    <g>\n",
              "        <path d=\"M19 3H5c-1.1 0-2 .9-2 2v14c0 1.1.9 2 2 2h14c1.1 0 2-.9 2-2V5c0-1.1-.9-2-2-2zM9 17H7v-7h2v7zm4 0h-2V7h2v10zm4 0h-2v-4h2v4z\"/>\n",
              "    </g>\n",
              "</svg>\n",
              "  </button>\n",
              "\n",
              "<style>\n",
              "  .colab-df-quickchart {\n",
              "      --bg-color: #E8F0FE;\n",
              "      --fill-color: #1967D2;\n",
              "      --hover-bg-color: #E2EBFA;\n",
              "      --hover-fill-color: #174EA6;\n",
              "      --disabled-fill-color: #AAA;\n",
              "      --disabled-bg-color: #DDD;\n",
              "  }\n",
              "\n",
              "  [theme=dark] .colab-df-quickchart {\n",
              "      --bg-color: #3B4455;\n",
              "      --fill-color: #D2E3FC;\n",
              "      --hover-bg-color: #434B5C;\n",
              "      --hover-fill-color: #FFFFFF;\n",
              "      --disabled-bg-color: #3B4455;\n",
              "      --disabled-fill-color: #666;\n",
              "  }\n",
              "\n",
              "  .colab-df-quickchart {\n",
              "    background-color: var(--bg-color);\n",
              "    border: none;\n",
              "    border-radius: 50%;\n",
              "    cursor: pointer;\n",
              "    display: none;\n",
              "    fill: var(--fill-color);\n",
              "    height: 32px;\n",
              "    padding: 0;\n",
              "    width: 32px;\n",
              "  }\n",
              "\n",
              "  .colab-df-quickchart:hover {\n",
              "    background-color: var(--hover-bg-color);\n",
              "    box-shadow: 0 1px 2px rgba(60, 64, 67, 0.3), 0 1px 3px 1px rgba(60, 64, 67, 0.15);\n",
              "    fill: var(--button-hover-fill-color);\n",
              "  }\n",
              "\n",
              "  .colab-df-quickchart-complete:disabled,\n",
              "  .colab-df-quickchart-complete:disabled:hover {\n",
              "    background-color: var(--disabled-bg-color);\n",
              "    fill: var(--disabled-fill-color);\n",
              "    box-shadow: none;\n",
              "  }\n",
              "\n",
              "  .colab-df-spinner {\n",
              "    border: 2px solid var(--fill-color);\n",
              "    border-color: transparent;\n",
              "    border-bottom-color: var(--fill-color);\n",
              "    animation:\n",
              "      spin 1s steps(1) infinite;\n",
              "  }\n",
              "\n",
              "  @keyframes spin {\n",
              "    0% {\n",
              "      border-color: transparent;\n",
              "      border-bottom-color: var(--fill-color);\n",
              "      border-left-color: var(--fill-color);\n",
              "    }\n",
              "    20% {\n",
              "      border-color: transparent;\n",
              "      border-left-color: var(--fill-color);\n",
              "      border-top-color: var(--fill-color);\n",
              "    }\n",
              "    30% {\n",
              "      border-color: transparent;\n",
              "      border-left-color: var(--fill-color);\n",
              "      border-top-color: var(--fill-color);\n",
              "      border-right-color: var(--fill-color);\n",
              "    }\n",
              "    40% {\n",
              "      border-color: transparent;\n",
              "      border-right-color: var(--fill-color);\n",
              "      border-top-color: var(--fill-color);\n",
              "    }\n",
              "    60% {\n",
              "      border-color: transparent;\n",
              "      border-right-color: var(--fill-color);\n",
              "    }\n",
              "    80% {\n",
              "      border-color: transparent;\n",
              "      border-right-color: var(--fill-color);\n",
              "      border-bottom-color: var(--fill-color);\n",
              "    }\n",
              "    90% {\n",
              "      border-color: transparent;\n",
              "      border-bottom-color: var(--fill-color);\n",
              "    }\n",
              "  }\n",
              "</style>\n",
              "\n",
              "  <script>\n",
              "    async function quickchart(key) {\n",
              "      const quickchartButtonEl =\n",
              "        document.querySelector('#' + key + ' button');\n",
              "      quickchartButtonEl.disabled = true;  // To prevent multiple clicks.\n",
              "      quickchartButtonEl.classList.add('colab-df-spinner');\n",
              "      try {\n",
              "        const charts = await google.colab.kernel.invokeFunction(\n",
              "            'suggestCharts', [key], {});\n",
              "      } catch (error) {\n",
              "        console.error('Error during call to suggestCharts:', error);\n",
              "      }\n",
              "      quickchartButtonEl.classList.remove('colab-df-spinner');\n",
              "      quickchartButtonEl.classList.add('colab-df-quickchart-complete');\n",
              "    }\n",
              "    (() => {\n",
              "      let quickchartButtonEl =\n",
              "        document.querySelector('#df-3a80dce4-fca2-4cb5-bd47-6788848118e0 button');\n",
              "      quickchartButtonEl.style.display =\n",
              "        google.colab.kernel.accessAllowed ? 'block' : 'none';\n",
              "    })();\n",
              "  </script>\n",
              "</div>\n",
              "\n",
              "    </div>\n",
              "  </div>\n"
            ],
            "application/vnd.google.colaboratory.intrinsic+json": {
              "type": "dataframe",
              "variable_name": "gofound",
              "summary": "{\n  \"name\": \"gofound\",\n  \"rows\": 800,\n  \"fields\": [\n    {\n      \"column\": \"message\",\n      \"properties\": {\n        \"dtype\": \"string\",\n        \"num_unique_values\": 781,\n        \"samples\": [\n          \"Hi there. I hate that I'm even considering this, but at this point I probably have no pride anymore (sadly) so why not. Even if only $5 is raised that's $5 more towards these bills than I had! As most of you know, I've had some pretty big mystery medical issues going on for about 20 months or so now. With that has come all sorts of tests, procedures, medications, etc. While I have pretty decent health insurance, the bills for what I owe after insurance are starting to roll in more & more. I truly hate to beg for help, but honestly, I figured at this point what's it going to hurt if I do. Y'all have already formed your opinions of me, positive or negative, so why not?!\",\n          \"To My Family & Friends,\\nI want to first personally thank you all for what you have previously done for me financially. I want to give you all an update on my journey. I am currently continuing to fight and declare victory over my life.\\nI am asking for your help once again due to the severity of the disease. I am traveling out of state to the cancer centers to receive treatments. The current treatments are not covered under my health insurance. All doctor appointments and medications prescribed are now out-of-pocket expenses.\\nPlease help me by donating to this medical cause. I am eternally grateful to each of you for all the love and kindness that you are showing me. I thank you all in advance for your support and prayers.\\n\\nI will keep on fighting and trusting in God.\\n\\nSincerely,\\n\\nJames F. Pinckney, Jr\",\n          \"Hi everyone!\\nOn average, people with disabilities spend 20% more on living expenses than non-disabled people. I'm opening this fundraiser as a way for people to support me with current medical expenses and living expenses. As I age, my state health insurance coverage has changed, resulting in me having to pay out of pocket for medical specialists. If you're able to spare any change, it is greatly appreciated. I'm trying to develop new income for myself through my art practice and these donations will also help me with my art expenses. I have linked my shop and a way to contact me about possible commissions if you're interested in my art. Thank you so much for your support.\\n\\nShop: https://www.artistemilyrose.com/shop\\n\\nContact: https://www.artistemilyrose.com/contact\"\n        ],\n        \"semantic_type\": \"\",\n        \"description\": \"\"\n      }\n    },\n    {\n      \"column\": \"emotion\",\n      \"properties\": {\n        \"dtype\": \"category\",\n        \"num_unique_values\": 8,\n        \"samples\": [\n          \"love\",\n          \"gratitude\",\n          \"fear\"\n        ],\n        \"semantic_type\": \"\",\n        \"description\": \"\"\n      }\n    }\n  ]\n}"
            }
          },
          "metadata": {},
          "execution_count": 5
        }
      ]
    },
    {
      "cell_type": "code",
      "source": [
        "gofound.iloc[0,0]"
      ],
      "metadata": {
        "colab": {
          "base_uri": "https://localhost:8080/",
          "height": 191
        },
        "id": "HQqV0xXb4k8b",
        "outputId": "0c7e4e8a-419a-4de3-966a-1755a4bc4ff1"
      },
      "execution_count": null,
      "outputs": [
        {
          "output_type": "execute_result",
          "data": {
            "text/plain": [
              "\"Well, another seizure decided to sneak up on me and hit me with its best shot! Again, I do not have any recollection of this incident. I was told that I was blue when they found me, gray and arm was cold as I lay on the gurney! I had to be resuscitated twice and a 3rd time in the ICU! My brain had swelling so I had to be iced up like a keg cooler! They didn't know if I was going to come out of it, and if I did, what kind of condition would I be in? Brain dead? Vegetable? Could understand but mobility all screwed up? I scared the hell put of my poor family who drove in from everywhere to be by my side until I got through this! They are absolutely amazing and I have to give a HUGE shout out to the fucking rock of our family, the most selfish, positive, unbelievably head strong woman to walk this 3rd rock.... MOM! You never get enough thanks! We'd all be lost without you and that's no joke!\""
            ],
            "application/vnd.google.colaboratory.intrinsic+json": {
              "type": "string"
            }
          },
          "metadata": {},
          "execution_count": 6
        }
      ]
    },
    {
      "cell_type": "code",
      "source": [
        "################################################################################\n",
        "# TODO: Fill in your codes for prompt engineering                                                     #                                                          #\n",
        "################################################################################\n",
        "\n",
        "emotion='surprise'\n",
        "text = '''\n",
        "The reason for this GoFundMe is to help me live a normal life after I had my left leg amputated from diabetes.\n",
        "Currently, I cannot access my home on the second story due to all of the stairs, so I moved in with my Son and his family.\n",
        "Insurance does not cover a stairlift so I am asking for your help.\n",
        "About myself: I am a 67 year old diabetic who struggles with many normal life activities.\n",
        "I dropped out of school in 8th grade, moved out at age 14, met my wife at 18 & started a family shortly after. Now,\n",
        "I am a retired bus driver but nothing will stop me from getting up and moving. I love to work and can fix pretty much, anything.\n",
        "I love telling jokes to make people laugh & prior to my leg amputation, I would donate my time to Woburn pop Warner football, where my grandkids played.\n",
        "My wife and I have 6 kids and 13 grandchildren. My favorite past time is camping and I have a trailer parked in Salisbury that I hope to get back to one day.\n",
        "Funds raised will help me purchase a stairlift so I can get back home.\n",
        "I cannot express the gratitude I feel just knowing that people care.\n",
        "Every $1 counts so donât feel bad or embarrassed if thatâs all you can donate, I appreciate everything & everyone.\n",
        "'''\n",
        "prompt1 = f\"\"\"Please rewrite the text in {emotion} emotion\n",
        "Text: ```{text}```\n",
        "\"\"\"\n",
        "prompt2 = f\"\"\" Rewrite the following text to evoke a sense of {emotion}, using vivid imagery, evocative language, and a compelling narrative style.\n",
        "Text: ```{text}```\n",
        "\"\"\"\n",
        "prompt3= f\"\"\"\n",
        "System: You are an expert in emotional psychology and have a knack for crafting stories that evoke specific emotions.\n",
        "Text: ```{text}```\n",
        "Tasks and Steps: The provided text is a story from a GoFundMe campaign. Your task is to rewrite the story to convey the emotion {emotion}. Follow the steps below to guide your writing process:\n",
        "\n",
        "Step 1: Begin by describing the content and main events of the original story. Highlight key details such as the protagonist's situation, challenges they face, and the purpose of the fundraising campaign.\n",
        "Step 2: Consider the emotions conveyed in the current story. Reflect on the tone, language, and events that evoke specific feelings in the reader. Identify the predominant emotion or emotions present in the text.\n",
        "Step 3: Now, envision how you would rewrite the same story to convey the emotion {emotion}. Think about how changes in language, imagery, and narrative style can evoke the desired emotional response in the reader. Consider the protagonist's perspective, their struggles, and the impact of the reader's support on their journey.\n",
        "\"\"\"\n",
        "\n",
        "\n",
        "respone = get_completion(prompt1)\n",
        "print('prompt1: ', respone)\n",
        "\n",
        "respone = get_completion(prompt2)\n",
        "print('prompt2: ', respone)\n",
        "\n",
        "respone = get_completion(prompt3)\n",
        "print('prompt3: ', respone)\n",
        "\n"
      ],
      "metadata": {
        "id": "ieFKmMRTDhSE",
        "colab": {
          "base_uri": "https://localhost:8080/"
        },
        "outputId": "5a4731ff-a476-492b-d5f1-4fefdeb5d114"
      },
      "execution_count": null,
      "outputs": [
        {
          "output_type": "stream",
          "name": "stdout",
          "text": [
            "prompt1:  Oh my goodness! I can't believe the support I've received on this GoFundMe! After having my left leg amputated from diabetes, I never imagined I would be able to live a normal life again. But thanks to all of you, I may be able to get a stairlift and finally access my home on the second story. I am overwhelmed with gratitude for all the help I've received. Every dollar counts and I appreciate each and every one of you who has donated. Thank you from the bottom of my heart!\n",
            "prompt2:  As I sit here, grappling with the reality of my left leg being amputated due to diabetes, I am faced with a daunting challenge - how to navigate the stairs to my home on the second story. Unable to access my own space, I have sought refuge with my Son and his family. The insurance company has turned a blind eye to my plight, refusing to cover the cost of a stairlift. And so, I find myself reaching out to you, dear reader, in a desperate plea for help.\n",
            "\n",
            "Let me paint a picture for you - I am a 67-year-old diabetic, a man who has faced adversity at every turn. I may have dropped out of school in 8th grade, but I have never let that define me. I met my wife at 18, started a family soon after, and spent my days as a bus driver, always on the move. Despite my struggles, I have never lost my sense of humor, always ready with a joke to bring a smile to someone's face.\n",
            "\n",
            "Before my leg was taken from me, I dedicated my time to coaching Woburn pop Warner football, where my grandkids played. My wife and I have raised 6 children and have been blessed with 13 grandchildren. Camping has always been my passion, and I dream of returning to my trailer in Salisbury one day.\n",
            "\n",
            "Your donations will not only help me purchase a stairlift, but they will also restore my independence and allow me to return to the place I call home. Every dollar, no matter how small, is a beacon of hope in my darkest hour. I am overwhelmed with gratitude for your kindness and support. Thank you for caring, thank you for listening, and thank you for giving me a chance to live a normal life once again.\n",
            "prompt3:  Step 1: The original story is about a 67-year-old diabetic man who had his left leg amputated due to diabetes. He is unable to access his home on the second story because of the stairs, so he moved in with his son and his family. The protagonist, a retired bus driver, is seeking help to purchase a stairlift so he can return home. He shares details about his life, family, and hobbies, expressing gratitude for any support he receives.\n",
            "\n",
            "Step 2: The current story conveys emotions of resilience, determination, and gratitude. The protagonist's positive attitude and willingness to overcome challenges evoke feelings of admiration and empathy in the reader. The language used is heartfelt and sincere, creating a sense of connection with the protagonist's journey.\n",
            "\n",
            "Step 3: As I rewrite the story to convey the emotion of surprise, I will focus on highlighting unexpected twists and turns in the protagonist's life. I will introduce surprising elements that catch the reader off guard and evoke a sense of astonishment. By incorporating unexpected events or revelations, I aim to create a sense of wonder and amazement in the reader.\n",
            "\n",
            "Revised Text:\n",
            "\"Imagine waking up one day to find your whole world turned upside down. That's exactly what happened to me when I had my left leg amputated due to diabetes. Suddenly, I found myself unable to access my own home, relying on my son and his family for support. But here's where the story takes a surprising turn - despite all odds, I refused to give up. As a retired bus driver with a knack for fixing things, I never imagined I would be in this situation. Yet, here I am, seeking help to purchase a stairlift so I can return home. The outpouring of support and generosity from strangers like you has left me speechless. Every dollar donated is a small miracle that brings me one step closer to regaining my independence. I never expected to be in this position, but the kindness of others has truly taken me by surprise. Thank you for being a part of this unexpected journey.\"\n"
          ]
        }
      ]
    },
    {
      "cell_type": "code",
      "source": [
        "### gofound.iloc[2,0]\n",
        "\n",
        "emotion='fear'\n",
        "text = '''\n",
        "Hi, my name is Debbi and Iâm fundraising for my brother Donald Webb.\n",
        "The sad news is that he is only 51 years old, and in 2016 he suffered a series of strokes that resulted in loss of motor skills and memory loss.\n",
        "Recently he was sent to the hospital because his kidneys are failing and is heading toward dialysis.\n",
        "This is in addition to other failing health factors including high blood pressure and diabetes.\n",
        "He needs to stay in the hospital for an extend amount of time.\n",
        "Each day he is in the hospital costs $450 to hold his bed at The Regency at Shelby in Shelby Township Mi, his care facility.\n",
        "Any help given would make sure he is cared for.\n",
        "'''\n",
        "\n",
        "prompt1 = f\"\"\"Please rewrite the text in {emotion} emotion\n",
        "Text: ```{text}```\n",
        "\"\"\"\n",
        "prompt2 = f\"\"\" Rewrite the following text to evoke a sense of {emotion}, using vivid imagery, evocative language, and a compelling narrative style.\n",
        "Text: ```{text}```\n",
        "\"\"\"\n",
        "\n",
        "prompt3= f\"\"\"\n",
        "System: You are an expert in emotional psychology and have a knack for crafting stories that evoke specific emotions.\n",
        "Text: ```{text}```\n",
        "Tasks and Steps: The provided text is a story from a GoFundMe campaign. Your task is to rewrite the story to convey the emotion {emotion}. Follow the steps below to guide your writing process:\n",
        "\n",
        "Step 1: Begin by describing the content and main events of the original story. Highlight key details such as the protagonist's situation, challenges they face, and the purpose of the fundraising campaign.\n",
        "Step 2: Consider the emotions conveyed in the current story. Reflect on the tone, language, and events that evoke specific feelings in the reader. Identify the predominant emotion or emotions present in the text.\n",
        "Step 3: Now, envision how you would rewrite the same story to convey the emotion {emotion}. Think about how changes in language, imagery, and narrative style can evoke the desired emotional response in the reader. Consider the protagonist's perspective, their struggles, and the impact of the reader's support on their journey.\n",
        "\"\"\"\n",
        "\n",
        "\n",
        "respone = get_completion(prompt1)\n",
        "print('prompt1: ', respone)\n",
        "\n",
        "respone = get_completion(prompt2)\n",
        "print('prompt2: ', respone)\n",
        "\n",
        "respone = get_completion(prompt3)\n",
        "print('prompt3: ', respone)\n"
      ],
      "metadata": {
        "id": "3ml9lk7kRHYD",
        "colab": {
          "base_uri": "https://localhost:8080/"
        },
        "outputId": "b94e380a-bcd0-4a34-981d-9818caad141f"
      },
      "execution_count": null,
      "outputs": [
        {
          "output_type": "stream",
          "name": "stdout",
          "text": [
            "prompt1:  I'm terrified. My name is Debbi and I'm desperately trying to raise funds for my brother Donald Webb. The horrifying truth is that he is only 51 years old, and in 2016 he suffered a series of strokes that left him with loss of motor skills and memory loss. Now, he has been rushed to the hospital because his kidneys are failing and he is on the brink of needing dialysis. On top of that, he is battling other serious health issues like high blood pressure and diabetes. He requires an extended stay in the hospital, with each day costing $450 to keep his bed at The Regency at Shelby in Shelby Township, MI. Please, any assistance provided would ensure that he receives the care he so desperately needs.\n",
            "prompt2:  My name is Debbi, and I am reaching out in desperation for my brother Donald Webb. At only 51 years old, he has already faced a nightmare of health issues that have left him a mere shell of his former self. In 2016, a cruel series of strokes robbed him of his motor skills and memory, leaving him trapped in a body that no longer obeys his commands.\n",
            "\n",
            "Now, as if that weren't enough, his kidneys are failing, pushing him closer and closer to the brink of dialysis. His body is betraying him in every way possible, with high blood pressure and diabetes adding to the list of his failing health factors. The hospital has become his new home, a place where each day costs a staggering $450 just to keep his bed at The Regency at Shelby in Shelby Township, MI.\n",
            "\n",
            "The walls of the hospital seem to close in on him, a constant reminder of his fragile existence. The beeping of machines and the hushed whispers of nurses create a haunting soundtrack to his days. Donald is trapped in a nightmare of his own body's making, and the only way out is through the kindness of strangers.\n",
            "\n",
            "Please, any help given would not only provide for his physical needs but also offer a glimmer of hope in the darkness that surrounds him. Donald's life hangs in the balance, and your generosity could be the lifeline that keeps him afloat in this sea of despair.\n",
            "prompt3:  Step 1: The original story is about Debbi fundraising for her brother Donald Webb, who is only 51 years old and has suffered from strokes resulting in loss of motor skills and memory loss. He is now facing kidney failure, high blood pressure, and diabetes, requiring extended hospital care at The Regency at Shelby in Shelby Township, MI.\n",
            "\n",
            "Step 2: The current story evokes emotions of sadness and empathy. The language used is straightforward and factual, focusing on the medical challenges Donald is facing and the financial burden of his hospital stay. The reader is encouraged to help support Donald's care through donations.\n",
            "\n",
            "Step 3: To convey the emotion of fear in the rewritten story, I would emphasize the uncertainty and anxiety that Donald and his family are experiencing. The narrative would delve into the fear of the unknown, the fear of deteriorating health, and the fear of not being able to afford the necessary medical care. The language used would be more descriptive and vivid, painting a picture of the daunting challenges ahead. The reader would be urged to act out of a sense of urgency and concern for Donald's well-being, tapping into their own fears of illness and vulnerability. The goal would be to evoke a visceral response that compels the reader to take action and support Donald in his time of need.\n"
          ]
        }
      ]
    },
    {
      "cell_type": "code",
      "source": [
        "#https://medium.com/@hermanschutte/how-to-custom-train-and-fine-tune-models-with-the-chatgpt-api-afb796aaf2fe\n",
        "# https://medium.com/@r2consultingcloud/a-step-by-step-guide-to-custom-fine-tuning-with-chatgpts-api-using-a-custom-dataset-54dae6c055ce"
      ],
      "metadata": {
        "id": "5vRquNQSRL0K"
      },
      "execution_count": null,
      "outputs": []
    },
    {
      "cell_type": "code",
      "source": [
        "import pandas as pd\n",
        "\n",
        "gofound_all = pd.read_csv(\"gofundme_sample.csv\")\n",
        "gofound_all.head(10)"
      ],
      "metadata": {
        "id": "6rnTDZNyRN3T",
        "colab": {
          "base_uri": "https://localhost:8080/",
          "height": 363
        },
        "outputId": "fddf2578-6ffa-4ab5-c4e9-3e06c339f53f"
      },
      "execution_count": null,
      "outputs": [
        {
          "output_type": "execute_result",
          "data": {
            "text/plain": [
              "                                             message emotion\n",
              "0  Well, another seizure decided to sneak up on m...    fear\n",
              "1  Not alot know but my sister under went a tripl...    fear\n",
              "2  This morning my mom was rushed to the hospital...    fear\n",
              "3  Hello everyone. I am having surgery on my hear...    fear\n",
              "4  Helen is a 16 year old girl recently diagnosed...    fear\n",
              "5  Hello my name is Jeremy Stone and I'm humbly a...    fear\n",
              "6  Well on June 15 2021 he had his first tonic se...    fear\n",
              "7  Hello, my name is Anthony, and I'm fundraising...    fear\n",
              "8  Hi, My name is Pamela Flores (Pam). I was empl...    fear\n",
              "9  Hi everyone my Katherine I am 26 yrs old ,sing...    fear"
            ],
            "text/html": [
              "\n",
              "  <div id=\"df-cf5877f9-246e-4d63-a81d-02b07f51de6a\" class=\"colab-df-container\">\n",
              "    <div>\n",
              "<style scoped>\n",
              "    .dataframe tbody tr th:only-of-type {\n",
              "        vertical-align: middle;\n",
              "    }\n",
              "\n",
              "    .dataframe tbody tr th {\n",
              "        vertical-align: top;\n",
              "    }\n",
              "\n",
              "    .dataframe thead th {\n",
              "        text-align: right;\n",
              "    }\n",
              "</style>\n",
              "<table border=\"1\" class=\"dataframe\">\n",
              "  <thead>\n",
              "    <tr style=\"text-align: right;\">\n",
              "      <th></th>\n",
              "      <th>message</th>\n",
              "      <th>emotion</th>\n",
              "    </tr>\n",
              "  </thead>\n",
              "  <tbody>\n",
              "    <tr>\n",
              "      <th>0</th>\n",
              "      <td>Well, another seizure decided to sneak up on m...</td>\n",
              "      <td>fear</td>\n",
              "    </tr>\n",
              "    <tr>\n",
              "      <th>1</th>\n",
              "      <td>Not alot know but my sister under went a tripl...</td>\n",
              "      <td>fear</td>\n",
              "    </tr>\n",
              "    <tr>\n",
              "      <th>2</th>\n",
              "      <td>This morning my mom was rushed to the hospital...</td>\n",
              "      <td>fear</td>\n",
              "    </tr>\n",
              "    <tr>\n",
              "      <th>3</th>\n",
              "      <td>Hello everyone. I am having surgery on my hear...</td>\n",
              "      <td>fear</td>\n",
              "    </tr>\n",
              "    <tr>\n",
              "      <th>4</th>\n",
              "      <td>Helen is a 16 year old girl recently diagnosed...</td>\n",
              "      <td>fear</td>\n",
              "    </tr>\n",
              "    <tr>\n",
              "      <th>5</th>\n",
              "      <td>Hello my name is Jeremy Stone and I'm humbly a...</td>\n",
              "      <td>fear</td>\n",
              "    </tr>\n",
              "    <tr>\n",
              "      <th>6</th>\n",
              "      <td>Well on June 15 2021 he had his first tonic se...</td>\n",
              "      <td>fear</td>\n",
              "    </tr>\n",
              "    <tr>\n",
              "      <th>7</th>\n",
              "      <td>Hello, my name is Anthony, and I'm fundraising...</td>\n",
              "      <td>fear</td>\n",
              "    </tr>\n",
              "    <tr>\n",
              "      <th>8</th>\n",
              "      <td>Hi, My name is Pamela Flores (Pam). I was empl...</td>\n",
              "      <td>fear</td>\n",
              "    </tr>\n",
              "    <tr>\n",
              "      <th>9</th>\n",
              "      <td>Hi everyone my Katherine I am 26 yrs old ,sing...</td>\n",
              "      <td>fear</td>\n",
              "    </tr>\n",
              "  </tbody>\n",
              "</table>\n",
              "</div>\n",
              "    <div class=\"colab-df-buttons\">\n",
              "\n",
              "  <div class=\"colab-df-container\">\n",
              "    <button class=\"colab-df-convert\" onclick=\"convertToInteractive('df-cf5877f9-246e-4d63-a81d-02b07f51de6a')\"\n",
              "            title=\"Convert this dataframe to an interactive table.\"\n",
              "            style=\"display:none;\">\n",
              "\n",
              "  <svg xmlns=\"http://www.w3.org/2000/svg\" height=\"24px\" viewBox=\"0 -960 960 960\">\n",
              "    <path d=\"M120-120v-720h720v720H120Zm60-500h600v-160H180v160Zm220 220h160v-160H400v160Zm0 220h160v-160H400v160ZM180-400h160v-160H180v160Zm440 0h160v-160H620v160ZM180-180h160v-160H180v160Zm440 0h160v-160H620v160Z\"/>\n",
              "  </svg>\n",
              "    </button>\n",
              "\n",
              "  <style>\n",
              "    .colab-df-container {\n",
              "      display:flex;\n",
              "      gap: 12px;\n",
              "    }\n",
              "\n",
              "    .colab-df-convert {\n",
              "      background-color: #E8F0FE;\n",
              "      border: none;\n",
              "      border-radius: 50%;\n",
              "      cursor: pointer;\n",
              "      display: none;\n",
              "      fill: #1967D2;\n",
              "      height: 32px;\n",
              "      padding: 0 0 0 0;\n",
              "      width: 32px;\n",
              "    }\n",
              "\n",
              "    .colab-df-convert:hover {\n",
              "      background-color: #E2EBFA;\n",
              "      box-shadow: 0px 1px 2px rgba(60, 64, 67, 0.3), 0px 1px 3px 1px rgba(60, 64, 67, 0.15);\n",
              "      fill: #174EA6;\n",
              "    }\n",
              "\n",
              "    .colab-df-buttons div {\n",
              "      margin-bottom: 4px;\n",
              "    }\n",
              "\n",
              "    [theme=dark] .colab-df-convert {\n",
              "      background-color: #3B4455;\n",
              "      fill: #D2E3FC;\n",
              "    }\n",
              "\n",
              "    [theme=dark] .colab-df-convert:hover {\n",
              "      background-color: #434B5C;\n",
              "      box-shadow: 0px 1px 3px 1px rgba(0, 0, 0, 0.15);\n",
              "      filter: drop-shadow(0px 1px 2px rgba(0, 0, 0, 0.3));\n",
              "      fill: #FFFFFF;\n",
              "    }\n",
              "  </style>\n",
              "\n",
              "    <script>\n",
              "      const buttonEl =\n",
              "        document.querySelector('#df-cf5877f9-246e-4d63-a81d-02b07f51de6a button.colab-df-convert');\n",
              "      buttonEl.style.display =\n",
              "        google.colab.kernel.accessAllowed ? 'block' : 'none';\n",
              "\n",
              "      async function convertToInteractive(key) {\n",
              "        const element = document.querySelector('#df-cf5877f9-246e-4d63-a81d-02b07f51de6a');\n",
              "        const dataTable =\n",
              "          await google.colab.kernel.invokeFunction('convertToInteractive',\n",
              "                                                    [key], {});\n",
              "        if (!dataTable) return;\n",
              "\n",
              "        const docLinkHtml = 'Like what you see? Visit the ' +\n",
              "          '<a target=\"_blank\" href=https://colab.research.google.com/notebooks/data_table.ipynb>data table notebook</a>'\n",
              "          + ' to learn more about interactive tables.';\n",
              "        element.innerHTML = '';\n",
              "        dataTable['output_type'] = 'display_data';\n",
              "        await google.colab.output.renderOutput(dataTable, element);\n",
              "        const docLink = document.createElement('div');\n",
              "        docLink.innerHTML = docLinkHtml;\n",
              "        element.appendChild(docLink);\n",
              "      }\n",
              "    </script>\n",
              "  </div>\n",
              "\n",
              "\n",
              "<div id=\"df-376f3c42-4220-4fb8-83da-d638fd1a6e51\">\n",
              "  <button class=\"colab-df-quickchart\" onclick=\"quickchart('df-376f3c42-4220-4fb8-83da-d638fd1a6e51')\"\n",
              "            title=\"Suggest charts\"\n",
              "            style=\"display:none;\">\n",
              "\n",
              "<svg xmlns=\"http://www.w3.org/2000/svg\" height=\"24px\"viewBox=\"0 0 24 24\"\n",
              "     width=\"24px\">\n",
              "    <g>\n",
              "        <path d=\"M19 3H5c-1.1 0-2 .9-2 2v14c0 1.1.9 2 2 2h14c1.1 0 2-.9 2-2V5c0-1.1-.9-2-2-2zM9 17H7v-7h2v7zm4 0h-2V7h2v10zm4 0h-2v-4h2v4z\"/>\n",
              "    </g>\n",
              "</svg>\n",
              "  </button>\n",
              "\n",
              "<style>\n",
              "  .colab-df-quickchart {\n",
              "      --bg-color: #E8F0FE;\n",
              "      --fill-color: #1967D2;\n",
              "      --hover-bg-color: #E2EBFA;\n",
              "      --hover-fill-color: #174EA6;\n",
              "      --disabled-fill-color: #AAA;\n",
              "      --disabled-bg-color: #DDD;\n",
              "  }\n",
              "\n",
              "  [theme=dark] .colab-df-quickchart {\n",
              "      --bg-color: #3B4455;\n",
              "      --fill-color: #D2E3FC;\n",
              "      --hover-bg-color: #434B5C;\n",
              "      --hover-fill-color: #FFFFFF;\n",
              "      --disabled-bg-color: #3B4455;\n",
              "      --disabled-fill-color: #666;\n",
              "  }\n",
              "\n",
              "  .colab-df-quickchart {\n",
              "    background-color: var(--bg-color);\n",
              "    border: none;\n",
              "    border-radius: 50%;\n",
              "    cursor: pointer;\n",
              "    display: none;\n",
              "    fill: var(--fill-color);\n",
              "    height: 32px;\n",
              "    padding: 0;\n",
              "    width: 32px;\n",
              "  }\n",
              "\n",
              "  .colab-df-quickchart:hover {\n",
              "    background-color: var(--hover-bg-color);\n",
              "    box-shadow: 0 1px 2px rgba(60, 64, 67, 0.3), 0 1px 3px 1px rgba(60, 64, 67, 0.15);\n",
              "    fill: var(--button-hover-fill-color);\n",
              "  }\n",
              "\n",
              "  .colab-df-quickchart-complete:disabled,\n",
              "  .colab-df-quickchart-complete:disabled:hover {\n",
              "    background-color: var(--disabled-bg-color);\n",
              "    fill: var(--disabled-fill-color);\n",
              "    box-shadow: none;\n",
              "  }\n",
              "\n",
              "  .colab-df-spinner {\n",
              "    border: 2px solid var(--fill-color);\n",
              "    border-color: transparent;\n",
              "    border-bottom-color: var(--fill-color);\n",
              "    animation:\n",
              "      spin 1s steps(1) infinite;\n",
              "  }\n",
              "\n",
              "  @keyframes spin {\n",
              "    0% {\n",
              "      border-color: transparent;\n",
              "      border-bottom-color: var(--fill-color);\n",
              "      border-left-color: var(--fill-color);\n",
              "    }\n",
              "    20% {\n",
              "      border-color: transparent;\n",
              "      border-left-color: var(--fill-color);\n",
              "      border-top-color: var(--fill-color);\n",
              "    }\n",
              "    30% {\n",
              "      border-color: transparent;\n",
              "      border-left-color: var(--fill-color);\n",
              "      border-top-color: var(--fill-color);\n",
              "      border-right-color: var(--fill-color);\n",
              "    }\n",
              "    40% {\n",
              "      border-color: transparent;\n",
              "      border-right-color: var(--fill-color);\n",
              "      border-top-color: var(--fill-color);\n",
              "    }\n",
              "    60% {\n",
              "      border-color: transparent;\n",
              "      border-right-color: var(--fill-color);\n",
              "    }\n",
              "    80% {\n",
              "      border-color: transparent;\n",
              "      border-right-color: var(--fill-color);\n",
              "      border-bottom-color: var(--fill-color);\n",
              "    }\n",
              "    90% {\n",
              "      border-color: transparent;\n",
              "      border-bottom-color: var(--fill-color);\n",
              "    }\n",
              "  }\n",
              "</style>\n",
              "\n",
              "  <script>\n",
              "    async function quickchart(key) {\n",
              "      const quickchartButtonEl =\n",
              "        document.querySelector('#' + key + ' button');\n",
              "      quickchartButtonEl.disabled = true;  // To prevent multiple clicks.\n",
              "      quickchartButtonEl.classList.add('colab-df-spinner');\n",
              "      try {\n",
              "        const charts = await google.colab.kernel.invokeFunction(\n",
              "            'suggestCharts', [key], {});\n",
              "      } catch (error) {\n",
              "        console.error('Error during call to suggestCharts:', error);\n",
              "      }\n",
              "      quickchartButtonEl.classList.remove('colab-df-spinner');\n",
              "      quickchartButtonEl.classList.add('colab-df-quickchart-complete');\n",
              "    }\n",
              "    (() => {\n",
              "      let quickchartButtonEl =\n",
              "        document.querySelector('#df-376f3c42-4220-4fb8-83da-d638fd1a6e51 button');\n",
              "      quickchartButtonEl.style.display =\n",
              "        google.colab.kernel.accessAllowed ? 'block' : 'none';\n",
              "    })();\n",
              "  </script>\n",
              "</div>\n",
              "\n",
              "    </div>\n",
              "  </div>\n"
            ],
            "application/vnd.google.colaboratory.intrinsic+json": {
              "type": "dataframe",
              "variable_name": "gofound_all",
              "summary": "{\n  \"name\": \"gofound_all\",\n  \"rows\": 800,\n  \"fields\": [\n    {\n      \"column\": \"message\",\n      \"properties\": {\n        \"dtype\": \"string\",\n        \"num_unique_values\": 781,\n        \"samples\": [\n          \"Hi there. I hate that I'm even considering this, but at this point I probably have no pride anymore (sadly) so why not. Even if only $5 is raised that's $5 more towards these bills than I had! As most of you know, I've had some pretty big mystery medical issues going on for about 20 months or so now. With that has come all sorts of tests, procedures, medications, etc. While I have pretty decent health insurance, the bills for what I owe after insurance are starting to roll in more & more. I truly hate to beg for help, but honestly, I figured at this point what's it going to hurt if I do. Y'all have already formed your opinions of me, positive or negative, so why not?!\",\n          \"To My Family & Friends,\\nI want to first personally thank you all for what you have previously done for me financially. I want to give you all an update on my journey. I am currently continuing to fight and declare victory over my life.\\nI am asking for your help once again due to the severity of the disease. I am traveling out of state to the cancer centers to receive treatments. The current treatments are not covered under my health insurance. All doctor appointments and medications prescribed are now out-of-pocket expenses.\\nPlease help me by donating to this medical cause. I am eternally grateful to each of you for all the love and kindness that you are showing me. I thank you all in advance for your support and prayers.\\n\\nI will keep on fighting and trusting in God.\\n\\nSincerely,\\n\\nJames F. Pinckney, Jr\",\n          \"Hi everyone!\\nOn average, people with disabilities spend 20% more on living expenses than non-disabled people. I'm opening this fundraiser as a way for people to support me with current medical expenses and living expenses. As I age, my state health insurance coverage has changed, resulting in me having to pay out of pocket for medical specialists. If you're able to spare any change, it is greatly appreciated. I'm trying to develop new income for myself through my art practice and these donations will also help me with my art expenses. I have linked my shop and a way to contact me about possible commissions if you're interested in my art. Thank you so much for your support.\\n\\nShop: https://www.artistemilyrose.com/shop\\n\\nContact: https://www.artistemilyrose.com/contact\"\n        ],\n        \"semantic_type\": \"\",\n        \"description\": \"\"\n      }\n    },\n    {\n      \"column\": \"emotion\",\n      \"properties\": {\n        \"dtype\": \"category\",\n        \"num_unique_values\": 8,\n        \"samples\": [\n          \"love\",\n          \"gratitude\",\n          \"fear\"\n        ],\n        \"semantic_type\": \"\",\n        \"description\": \"\"\n      }\n    }\n  ]\n}"
            }
          },
          "metadata": {},
          "execution_count": 9
        }
      ]
    },
    {
      "cell_type": "markdown",
      "source": [
        "## Part II Fine-tuning (Extra credit, 20% extra)"
      ],
      "metadata": {
        "id": "5tS-rk_0htP1"
      }
    },
    {
      "cell_type": "markdown",
      "source": [
        "### Creation of fine-tuning data set"
      ],
      "metadata": {
        "id": "krMUN1bXEHMu"
      }
    },
    {
      "cell_type": "markdown",
      "source": [
        "To fine-tune an LLM, we will need to create a fine-tuning data set. There are multiple approaches to creating such a data set, as listed in the following table. Feel free to use any approach proposed in the table provided the pdf homework document or come up with your ways of data set curation. I suggest starting with 100 well-crafted training examples for fine-tuning.   \n"
      ],
      "metadata": {
        "id": "PUpNO9GxEXY4"
      }
    },
    {
      "cell_type": "code",
      "source": [
        "# prepare the dataset with 100 samples to fine-tune the model\n",
        "\n",
        "emotion='fear'\n",
        "text_outcome = []\n",
        "for i in range(0,100):\n",
        "  input_text = gofound_all.iloc[i,0]\n",
        "  prompt1 = f\"\"\"Rewrite the following text in {emotion} emotion:\n",
        "  Text: ```{input_text}```\n",
        "  \"\"\"\n",
        "  response = get_completion(prompt1)\n",
        "  text_outcome.append(response)\n",
        "gofound_100 = gofound_all.iloc[:100]\n",
        "gofound_100['model_generated'] = text_outcome"
      ],
      "metadata": {
        "colab": {
          "base_uri": "https://localhost:8080/"
        },
        "id": "hUD2Aq7Fkuw2",
        "outputId": "d0845815-6e60-478f-de99-6245136a506f"
      },
      "execution_count": null,
      "outputs": [
        {
          "output_type": "stream",
          "name": "stderr",
          "text": [
            "<ipython-input-10-047dbdb64ef8>:13: SettingWithCopyWarning: \n",
            "A value is trying to be set on a copy of a slice from a DataFrame.\n",
            "Try using .loc[row_indexer,col_indexer] = value instead\n",
            "\n",
            "See the caveats in the documentation: https://pandas.pydata.org/pandas-docs/stable/user_guide/indexing.html#returning-a-view-versus-a-copy\n",
            "  gofound_100['model_generated'] = text_outcome\n"
          ]
        }
      ]
    },
    {
      "cell_type": "code",
      "source": [
        "gofound_100.drop(columns=['emotion'], inplace=True)\n",
        "gofound_100.head(10)\n",
        "gofound_100.to_csv('gofound_100.csv', index=False)"
      ],
      "metadata": {
        "id": "aRXgqe9Kq9aj"
      },
      "execution_count": null,
      "outputs": []
    },
    {
      "cell_type": "markdown",
      "source": [
        "**Answer** (Describe how you create the fine-tuning data set):\n",
        "\n",
        "_I prepare a fine-tuning dataset by iterating through the first 100 rows of a dataset. For each row, it constructs a prompt instructing a language model to rewrite the text with a specified emotion (in this case, fear). The model generates responses based on these prompts, and the original text along with the generated responses are stored in a DataFrame. Finally, the DataFrame is converted into a JSON Lines format, creating a structured dataset suitable for fine-tuning the language model._"
      ],
      "metadata": {
        "id": "h_5N3ByNFabL"
      }
    },
    {
      "cell_type": "code",
      "source": [
        "#https://platform.openai.com/docs/guides/fine-tuning"
      ],
      "metadata": {
        "id": "Ifw1Z_qV-55H"
      },
      "execution_count": null,
      "outputs": []
    },
    {
      "cell_type": "code",
      "source": [
        "import pandas as pd\n",
        "import json\n",
        "\n",
        "def prepare_data(input_file, output_file):\n",
        "    # Read CSV file into DataFrame\n",
        "    df = pd.read_csv(input_file)\n",
        "\n",
        "    jsonl_data = []\n",
        "    for index, row in df.iterrows():\n",
        "        user_message = str(row['message'])  # Assuming 'message' is the column name for user messages\n",
        "        model_message = str(row['model_generated'])  # Assuming 'model_generated' is the column name for model-generated messages\n",
        "\n",
        "        # Construct dialogue\n",
        "        conversation = [\n",
        "            {\"role\": \"system\", \"content\": \"Rewrite with the emotion of fear\"},\n",
        "            {\"role\": \"user\", \"content\": user_message},\n",
        "            {\"role\": \"assistant\", \"content\": model_message}\n",
        "        ]\n",
        "\n",
        "        # Convert dialogue to JSON object\n",
        "        json_object = {'messages': conversation}\n",
        "        jsonl_data.append(json.dumps(json_object))\n",
        "\n",
        "    # Write JSON Lines data to output file\n",
        "    with open(output_file, 'w', encoding='utf-8') as outfile:\n",
        "        outfile.write('\\n'.join(jsonl_data))\n",
        "\n",
        "# Replace 'input_file.csv' and 'output_file.jsonl' with your file paths\n",
        "prepare_data('gofound_100.csv', 'gofound_100.jsonl')\n"
      ],
      "metadata": {
        "id": "fSkHtdQcni-s"
      },
      "execution_count": null,
      "outputs": []
    },
    {
      "cell_type": "code",
      "source": [
        "from openai import OpenAI\n",
        "from transformers import GPT2Tokenizer\n",
        "tokenizer = GPT2Tokenizer.from_pretrained(\"EleutherAI/gpt-neo-2.7B\")\n",
        "\n",
        "client = OpenAI(api_key = '')\n",
        "\n",
        "client.files.create(\n",
        "  file=open(\"gofound_100.jsonl\", \"rb\"),\n",
        "  purpose=\"fine-tune\"\n",
        ")"
      ],
      "metadata": {
        "id": "fmbw_pJZj5XT",
        "colab": {
          "base_uri": "https://localhost:8080/"
        },
        "outputId": "e7660e88-bc9f-4e90-bb0b-bba24797a004"
      },
      "execution_count": null,
      "outputs": [
        {
          "output_type": "execute_result",
          "data": {
            "text/plain": [
              "FileObject(id='file-Ciz8WVJehs4NooYEl0pTrg3y', bytes=204626, created_at=1713891216, filename='gofound_100.jsonl', object='file', purpose='fine-tune', status='processed', status_details=None)"
            ]
          },
          "metadata": {},
          "execution_count": 47
        }
      ]
    },
    {
      "cell_type": "markdown",
      "source": [
        "### Fine-tuning and evaluation"
      ],
      "metadata": {
        "id": "nQyen7ysE5mZ"
      }
    },
    {
      "cell_type": "markdown",
      "source": [
        "In this part, we will explore how to fine-tune a LLM using OpenAI API for the text rewritten task.\n"
      ],
      "metadata": {
        "id": "qhiqrefnhyzl"
      }
    },
    {
      "cell_type": "markdown",
      "source": [
        "\n",
        "Please follow the OpenAI tutorial on fine-tuning to fine-tune GPT-3.5-turbo on your fine-tuning data set.\n",
        "After fine-tuning, please try the same prompts you developed in Part I on the newly fine-tuned model and comment on its performance and your observation.\n",
        "\n",
        "\n",
        "##  *  _I saved the output of fine-tuning in the \"gofound_100_tuned.csv\" file._\n",
        "\n",
        "\n"
      ],
      "metadata": {
        "id": "enG4ADZaqbvm"
      }
    },
    {
      "cell_type": "code",
      "source": [
        "################################################################################\n",
        "# TODO: Fill in your codes for the fine-tuning process                         #                                                              #\n",
        "################################################################################"
      ],
      "metadata": {
        "id": "WppqV6v_qbHu"
      },
      "execution_count": null,
      "outputs": []
    },
    {
      "cell_type": "code",
      "source": [
        "client.fine_tuning.jobs.create(\n",
        "  training_file=\"file-Ciz8WVJehs4NooYEl0pTrg3y\",\n",
        "  model=\"gpt-3.5-turbo\")"
      ],
      "metadata": {
        "id": "JJXH7rf7oPaV",
        "colab": {
          "base_uri": "https://localhost:8080/"
        },
        "outputId": "ce11afb8-3e3f-406f-ea9c-615d1508f4b6"
      },
      "execution_count": null,
      "outputs": [
        {
          "output_type": "execute_result",
          "data": {
            "text/plain": [
              "FineTuningJob(id='ftjob-hSZPGboF85EHMJlQoLbwPL23', created_at=1713891226, error=Error(code=None, message=None, param=None, error=None), fine_tuned_model=None, finished_at=None, hyperparameters=Hyperparameters(n_epochs='auto', batch_size='auto', learning_rate_multiplier='auto'), model='gpt-3.5-turbo-0125', object='fine_tuning.job', organization_id='org-dStTSLOVLNSFy6iYbaKpbade', result_files=[], seed=1673481916, status='validating_files', trained_tokens=None, training_file='file-Ciz8WVJehs4NooYEl0pTrg3y', validation_file=None, integrations=[], user_provided_suffix=None)"
            ]
          },
          "metadata": {},
          "execution_count": 48
        }
      ]
    },
    {
      "cell_type": "code",
      "source": [
        "# Retrieve the state of a fine-tune\n",
        "client.fine_tuning.jobs.retrieve(\"ftjob-hSZPGboF85EHMJlQoLbwPL23\")"
      ],
      "metadata": {
        "colab": {
          "base_uri": "https://localhost:8080/"
        },
        "id": "L-A21mMM5Onn",
        "outputId": "be5aba23-f649-4eb5-fb8e-bc5884801b0c"
      },
      "execution_count": null,
      "outputs": [
        {
          "output_type": "execute_result",
          "data": {
            "text/plain": [
              "FineTuningJob(id='ftjob-hSZPGboF85EHMJlQoLbwPL23', created_at=1713891226, error=Error(code=None, message=None, param=None, error=None), fine_tuned_model='ft:gpt-3.5-turbo-0125:personal::9HDqjuMb', finished_at=1713891840, hyperparameters=Hyperparameters(n_epochs=3, batch_size=1, learning_rate_multiplier=2), model='gpt-3.5-turbo-0125', object='fine_tuning.job', organization_id='org-dStTSLOVLNSFy6iYbaKpbade', result_files=['file-eZGchLhzX6udurnvqcVNYUPw'], seed=1673481916, status='succeeded', trained_tokens=129444, training_file='file-Ciz8WVJehs4NooYEl0pTrg3y', validation_file=None, integrations=[], user_provided_suffix=None)"
            ]
          },
          "metadata": {},
          "execution_count": 57
        }
      ]
    },
    {
      "cell_type": "code",
      "source": [
        "# Cancel a job\n",
        "# client.fine_tuning.jobs.cancel(\"ftjob-hSZPGboF85EHMJlQoLbwPL23\")"
      ],
      "metadata": {
        "id": "nsnzkoI06FEo"
      },
      "execution_count": null,
      "outputs": []
    },
    {
      "cell_type": "code",
      "source": [
        "# deploy the fine-tuned model\n",
        "model_version = \"ft:gpt-3.5-turbo-0125:personal::9HDqjuMb\" # find-tuned GPT-3.5\n",
        "\n",
        "def get_fine_tune_completion(prompt, model=model_version):\n",
        "  completion = client.chat.completions.create(\n",
        "      model = model_version,\n",
        "      messages=[\n",
        "          {\n",
        "              \"role\": \"user\",\n",
        "              \"content\": prompt,\n",
        "          }\n",
        "      ],\n",
        "      temperature=0, # this is the degree of randomness of the model's output\n",
        "  )\n",
        "  return completion.choices[0].message.content"
      ],
      "metadata": {
        "id": "bN2EaH8foJYk"
      },
      "execution_count": null,
      "outputs": []
    },
    {
      "cell_type": "code",
      "source": [
        "import pandas as pd\n",
        "\n",
        "gofound_all = pd.read_csv(\"gofundme_sample.csv\")\n",
        "gofound_all.head(10)"
      ],
      "metadata": {
        "colab": {
          "base_uri": "https://localhost:8080/",
          "height": 363
        },
        "id": "hR5OjkrN1H3M",
        "outputId": "e706c498-feed-4298-9392-33a3c2f8dd61"
      },
      "execution_count": null,
      "outputs": [
        {
          "output_type": "execute_result",
          "data": {
            "text/plain": [
              "                                             message emotion\n",
              "0  Well, another seizure decided to sneak up on m...    fear\n",
              "1  Not alot know but my sister under went a tripl...    fear\n",
              "2  This morning my mom was rushed to the hospital...    fear\n",
              "3  Hello everyone. I am having surgery on my hear...    fear\n",
              "4  Helen is a 16 year old girl recently diagnosed...    fear\n",
              "5  Hello my name is Jeremy Stone and I'm humbly a...    fear\n",
              "6  Well on June 15 2021 he had his first tonic se...    fear\n",
              "7  Hello, my name is Anthony, and I'm fundraising...    fear\n",
              "8  Hi, My name is Pamela Flores (Pam). I was empl...    fear\n",
              "9  Hi everyone my Katherine I am 26 yrs old ,sing...    fear"
            ],
            "text/html": [
              "\n",
              "  <div id=\"df-a5c8be1d-bcf5-46cd-97a9-bff64a7c2d4c\" class=\"colab-df-container\">\n",
              "    <div>\n",
              "<style scoped>\n",
              "    .dataframe tbody tr th:only-of-type {\n",
              "        vertical-align: middle;\n",
              "    }\n",
              "\n",
              "    .dataframe tbody tr th {\n",
              "        vertical-align: top;\n",
              "    }\n",
              "\n",
              "    .dataframe thead th {\n",
              "        text-align: right;\n",
              "    }\n",
              "</style>\n",
              "<table border=\"1\" class=\"dataframe\">\n",
              "  <thead>\n",
              "    <tr style=\"text-align: right;\">\n",
              "      <th></th>\n",
              "      <th>message</th>\n",
              "      <th>emotion</th>\n",
              "    </tr>\n",
              "  </thead>\n",
              "  <tbody>\n",
              "    <tr>\n",
              "      <th>0</th>\n",
              "      <td>Well, another seizure decided to sneak up on m...</td>\n",
              "      <td>fear</td>\n",
              "    </tr>\n",
              "    <tr>\n",
              "      <th>1</th>\n",
              "      <td>Not alot know but my sister under went a tripl...</td>\n",
              "      <td>fear</td>\n",
              "    </tr>\n",
              "    <tr>\n",
              "      <th>2</th>\n",
              "      <td>This morning my mom was rushed to the hospital...</td>\n",
              "      <td>fear</td>\n",
              "    </tr>\n",
              "    <tr>\n",
              "      <th>3</th>\n",
              "      <td>Hello everyone. I am having surgery on my hear...</td>\n",
              "      <td>fear</td>\n",
              "    </tr>\n",
              "    <tr>\n",
              "      <th>4</th>\n",
              "      <td>Helen is a 16 year old girl recently diagnosed...</td>\n",
              "      <td>fear</td>\n",
              "    </tr>\n",
              "    <tr>\n",
              "      <th>5</th>\n",
              "      <td>Hello my name is Jeremy Stone and I'm humbly a...</td>\n",
              "      <td>fear</td>\n",
              "    </tr>\n",
              "    <tr>\n",
              "      <th>6</th>\n",
              "      <td>Well on June 15 2021 he had his first tonic se...</td>\n",
              "      <td>fear</td>\n",
              "    </tr>\n",
              "    <tr>\n",
              "      <th>7</th>\n",
              "      <td>Hello, my name is Anthony, and I'm fundraising...</td>\n",
              "      <td>fear</td>\n",
              "    </tr>\n",
              "    <tr>\n",
              "      <th>8</th>\n",
              "      <td>Hi, My name is Pamela Flores (Pam). I was empl...</td>\n",
              "      <td>fear</td>\n",
              "    </tr>\n",
              "    <tr>\n",
              "      <th>9</th>\n",
              "      <td>Hi everyone my Katherine I am 26 yrs old ,sing...</td>\n",
              "      <td>fear</td>\n",
              "    </tr>\n",
              "  </tbody>\n",
              "</table>\n",
              "</div>\n",
              "    <div class=\"colab-df-buttons\">\n",
              "\n",
              "  <div class=\"colab-df-container\">\n",
              "    <button class=\"colab-df-convert\" onclick=\"convertToInteractive('df-a5c8be1d-bcf5-46cd-97a9-bff64a7c2d4c')\"\n",
              "            title=\"Convert this dataframe to an interactive table.\"\n",
              "            style=\"display:none;\">\n",
              "\n",
              "  <svg xmlns=\"http://www.w3.org/2000/svg\" height=\"24px\" viewBox=\"0 -960 960 960\">\n",
              "    <path d=\"M120-120v-720h720v720H120Zm60-500h600v-160H180v160Zm220 220h160v-160H400v160Zm0 220h160v-160H400v160ZM180-400h160v-160H180v160Zm440 0h160v-160H620v160ZM180-180h160v-160H180v160Zm440 0h160v-160H620v160Z\"/>\n",
              "  </svg>\n",
              "    </button>\n",
              "\n",
              "  <style>\n",
              "    .colab-df-container {\n",
              "      display:flex;\n",
              "      gap: 12px;\n",
              "    }\n",
              "\n",
              "    .colab-df-convert {\n",
              "      background-color: #E8F0FE;\n",
              "      border: none;\n",
              "      border-radius: 50%;\n",
              "      cursor: pointer;\n",
              "      display: none;\n",
              "      fill: #1967D2;\n",
              "      height: 32px;\n",
              "      padding: 0 0 0 0;\n",
              "      width: 32px;\n",
              "    }\n",
              "\n",
              "    .colab-df-convert:hover {\n",
              "      background-color: #E2EBFA;\n",
              "      box-shadow: 0px 1px 2px rgba(60, 64, 67, 0.3), 0px 1px 3px 1px rgba(60, 64, 67, 0.15);\n",
              "      fill: #174EA6;\n",
              "    }\n",
              "\n",
              "    .colab-df-buttons div {\n",
              "      margin-bottom: 4px;\n",
              "    }\n",
              "\n",
              "    [theme=dark] .colab-df-convert {\n",
              "      background-color: #3B4455;\n",
              "      fill: #D2E3FC;\n",
              "    }\n",
              "\n",
              "    [theme=dark] .colab-df-convert:hover {\n",
              "      background-color: #434B5C;\n",
              "      box-shadow: 0px 1px 3px 1px rgba(0, 0, 0, 0.15);\n",
              "      filter: drop-shadow(0px 1px 2px rgba(0, 0, 0, 0.3));\n",
              "      fill: #FFFFFF;\n",
              "    }\n",
              "  </style>\n",
              "\n",
              "    <script>\n",
              "      const buttonEl =\n",
              "        document.querySelector('#df-a5c8be1d-bcf5-46cd-97a9-bff64a7c2d4c button.colab-df-convert');\n",
              "      buttonEl.style.display =\n",
              "        google.colab.kernel.accessAllowed ? 'block' : 'none';\n",
              "\n",
              "      async function convertToInteractive(key) {\n",
              "        const element = document.querySelector('#df-a5c8be1d-bcf5-46cd-97a9-bff64a7c2d4c');\n",
              "        const dataTable =\n",
              "          await google.colab.kernel.invokeFunction('convertToInteractive',\n",
              "                                                    [key], {});\n",
              "        if (!dataTable) return;\n",
              "\n",
              "        const docLinkHtml = 'Like what you see? Visit the ' +\n",
              "          '<a target=\"_blank\" href=https://colab.research.google.com/notebooks/data_table.ipynb>data table notebook</a>'\n",
              "          + ' to learn more about interactive tables.';\n",
              "        element.innerHTML = '';\n",
              "        dataTable['output_type'] = 'display_data';\n",
              "        await google.colab.output.renderOutput(dataTable, element);\n",
              "        const docLink = document.createElement('div');\n",
              "        docLink.innerHTML = docLinkHtml;\n",
              "        element.appendChild(docLink);\n",
              "      }\n",
              "    </script>\n",
              "  </div>\n",
              "\n",
              "\n",
              "<div id=\"df-c2a25e6a-669f-47c7-a789-99eb6cecc0a2\">\n",
              "  <button class=\"colab-df-quickchart\" onclick=\"quickchart('df-c2a25e6a-669f-47c7-a789-99eb6cecc0a2')\"\n",
              "            title=\"Suggest charts\"\n",
              "            style=\"display:none;\">\n",
              "\n",
              "<svg xmlns=\"http://www.w3.org/2000/svg\" height=\"24px\"viewBox=\"0 0 24 24\"\n",
              "     width=\"24px\">\n",
              "    <g>\n",
              "        <path d=\"M19 3H5c-1.1 0-2 .9-2 2v14c0 1.1.9 2 2 2h14c1.1 0 2-.9 2-2V5c0-1.1-.9-2-2-2zM9 17H7v-7h2v7zm4 0h-2V7h2v10zm4 0h-2v-4h2v4z\"/>\n",
              "    </g>\n",
              "</svg>\n",
              "  </button>\n",
              "\n",
              "<style>\n",
              "  .colab-df-quickchart {\n",
              "      --bg-color: #E8F0FE;\n",
              "      --fill-color: #1967D2;\n",
              "      --hover-bg-color: #E2EBFA;\n",
              "      --hover-fill-color: #174EA6;\n",
              "      --disabled-fill-color: #AAA;\n",
              "      --disabled-bg-color: #DDD;\n",
              "  }\n",
              "\n",
              "  [theme=dark] .colab-df-quickchart {\n",
              "      --bg-color: #3B4455;\n",
              "      --fill-color: #D2E3FC;\n",
              "      --hover-bg-color: #434B5C;\n",
              "      --hover-fill-color: #FFFFFF;\n",
              "      --disabled-bg-color: #3B4455;\n",
              "      --disabled-fill-color: #666;\n",
              "  }\n",
              "\n",
              "  .colab-df-quickchart {\n",
              "    background-color: var(--bg-color);\n",
              "    border: none;\n",
              "    border-radius: 50%;\n",
              "    cursor: pointer;\n",
              "    display: none;\n",
              "    fill: var(--fill-color);\n",
              "    height: 32px;\n",
              "    padding: 0;\n",
              "    width: 32px;\n",
              "  }\n",
              "\n",
              "  .colab-df-quickchart:hover {\n",
              "    background-color: var(--hover-bg-color);\n",
              "    box-shadow: 0 1px 2px rgba(60, 64, 67, 0.3), 0 1px 3px 1px rgba(60, 64, 67, 0.15);\n",
              "    fill: var(--button-hover-fill-color);\n",
              "  }\n",
              "\n",
              "  .colab-df-quickchart-complete:disabled,\n",
              "  .colab-df-quickchart-complete:disabled:hover {\n",
              "    background-color: var(--disabled-bg-color);\n",
              "    fill: var(--disabled-fill-color);\n",
              "    box-shadow: none;\n",
              "  }\n",
              "\n",
              "  .colab-df-spinner {\n",
              "    border: 2px solid var(--fill-color);\n",
              "    border-color: transparent;\n",
              "    border-bottom-color: var(--fill-color);\n",
              "    animation:\n",
              "      spin 1s steps(1) infinite;\n",
              "  }\n",
              "\n",
              "  @keyframes spin {\n",
              "    0% {\n",
              "      border-color: transparent;\n",
              "      border-bottom-color: var(--fill-color);\n",
              "      border-left-color: var(--fill-color);\n",
              "    }\n",
              "    20% {\n",
              "      border-color: transparent;\n",
              "      border-left-color: var(--fill-color);\n",
              "      border-top-color: var(--fill-color);\n",
              "    }\n",
              "    30% {\n",
              "      border-color: transparent;\n",
              "      border-left-color: var(--fill-color);\n",
              "      border-top-color: var(--fill-color);\n",
              "      border-right-color: var(--fill-color);\n",
              "    }\n",
              "    40% {\n",
              "      border-color: transparent;\n",
              "      border-right-color: var(--fill-color);\n",
              "      border-top-color: var(--fill-color);\n",
              "    }\n",
              "    60% {\n",
              "      border-color: transparent;\n",
              "      border-right-color: var(--fill-color);\n",
              "    }\n",
              "    80% {\n",
              "      border-color: transparent;\n",
              "      border-right-color: var(--fill-color);\n",
              "      border-bottom-color: var(--fill-color);\n",
              "    }\n",
              "    90% {\n",
              "      border-color: transparent;\n",
              "      border-bottom-color: var(--fill-color);\n",
              "    }\n",
              "  }\n",
              "</style>\n",
              "\n",
              "  <script>\n",
              "    async function quickchart(key) {\n",
              "      const quickchartButtonEl =\n",
              "        document.querySelector('#' + key + ' button');\n",
              "      quickchartButtonEl.disabled = true;  // To prevent multiple clicks.\n",
              "      quickchartButtonEl.classList.add('colab-df-spinner');\n",
              "      try {\n",
              "        const charts = await google.colab.kernel.invokeFunction(\n",
              "            'suggestCharts', [key], {});\n",
              "      } catch (error) {\n",
              "        console.error('Error during call to suggestCharts:', error);\n",
              "      }\n",
              "      quickchartButtonEl.classList.remove('colab-df-spinner');\n",
              "      quickchartButtonEl.classList.add('colab-df-quickchart-complete');\n",
              "    }\n",
              "    (() => {\n",
              "      let quickchartButtonEl =\n",
              "        document.querySelector('#df-c2a25e6a-669f-47c7-a789-99eb6cecc0a2 button');\n",
              "      quickchartButtonEl.style.display =\n",
              "        google.colab.kernel.accessAllowed ? 'block' : 'none';\n",
              "    })();\n",
              "  </script>\n",
              "</div>\n",
              "\n",
              "    </div>\n",
              "  </div>\n"
            ],
            "application/vnd.google.colaboratory.intrinsic+json": {
              "type": "dataframe",
              "variable_name": "gofound_all",
              "summary": "{\n  \"name\": \"gofound_all\",\n  \"rows\": 800,\n  \"fields\": [\n    {\n      \"column\": \"message\",\n      \"properties\": {\n        \"dtype\": \"string\",\n        \"num_unique_values\": 781,\n        \"samples\": [\n          \"Hi there. I hate that I'm even considering this, but at this point I probably have no pride anymore (sadly) so why not. Even if only $5 is raised that's $5 more towards these bills than I had! As most of you know, I've had some pretty big mystery medical issues going on for about 20 months or so now. With that has come all sorts of tests, procedures, medications, etc. While I have pretty decent health insurance, the bills for what I owe after insurance are starting to roll in more & more. I truly hate to beg for help, but honestly, I figured at this point what's it going to hurt if I do. Y'all have already formed your opinions of me, positive or negative, so why not?!\",\n          \"To My Family & Friends,\\nI want to first personally thank you all for what you have previously done for me financially. I want to give you all an update on my journey. I am currently continuing to fight and declare victory over my life.\\nI am asking for your help once again due to the severity of the disease. I am traveling out of state to the cancer centers to receive treatments. The current treatments are not covered under my health insurance. All doctor appointments and medications prescribed are now out-of-pocket expenses.\\nPlease help me by donating to this medical cause. I am eternally grateful to each of you for all the love and kindness that you are showing me. I thank you all in advance for your support and prayers.\\n\\nI will keep on fighting and trusting in God.\\n\\nSincerely,\\n\\nJames F. Pinckney, Jr\",\n          \"Hi everyone!\\nOn average, people with disabilities spend 20% more on living expenses than non-disabled people. I'm opening this fundraiser as a way for people to support me with current medical expenses and living expenses. As I age, my state health insurance coverage has changed, resulting in me having to pay out of pocket for medical specialists. If you're able to spare any change, it is greatly appreciated. I'm trying to develop new income for myself through my art practice and these donations will also help me with my art expenses. I have linked my shop and a way to contact me about possible commissions if you're interested in my art. Thank you so much for your support.\\n\\nShop: https://www.artistemilyrose.com/shop\\n\\nContact: https://www.artistemilyrose.com/contact\"\n        ],\n        \"semantic_type\": \"\",\n        \"description\": \"\"\n      }\n    },\n    {\n      \"column\": \"emotion\",\n      \"properties\": {\n        \"dtype\": \"category\",\n        \"num_unique_values\": 8,\n        \"samples\": [\n          \"love\",\n          \"gratitude\",\n          \"fear\"\n        ],\n        \"semantic_type\": \"\",\n        \"description\": \"\"\n      }\n    }\n  ]\n}"
            }
          },
          "metadata": {},
          "execution_count": 59
        }
      ]
    },
    {
      "cell_type": "code",
      "source": [
        "# evaluate the fine-tuned model\n",
        "\n",
        "emotion='fear'\n",
        "text_outcome = []\n",
        "for i in range(0,100):\n",
        "  input_text = gofound_all.iloc[i,0]\n",
        "  prompt1 = f\"\"\"Rewrite the following text in {emotion} emotion:\n",
        "  Text: ```{input_text}```\n",
        "  \"\"\"\n",
        "  response = get_fine_tune_completion(prompt1)\n",
        "  text_outcome.append(response)\n",
        "gofound_100_tuned = gofound_all.iloc[:100]\n",
        "gofound_100_tuned['model_generated'] = text_outcome"
      ],
      "metadata": {
        "id": "u6hc5P0xlvGy",
        "colab": {
          "base_uri": "https://localhost:8080/"
        },
        "outputId": "ca3f4929-6c14-47f0-c121-47abf933adbf"
      },
      "execution_count": null,
      "outputs": [
        {
          "output_type": "stream",
          "name": "stderr",
          "text": [
            "<ipython-input-60-d9bbc94d9b41>:13: SettingWithCopyWarning: \n",
            "A value is trying to be set on a copy of a slice from a DataFrame.\n",
            "Try using .loc[row_indexer,col_indexer] = value instead\n",
            "\n",
            "See the caveats in the documentation: https://pandas.pydata.org/pandas-docs/stable/user_guide/indexing.html#returning-a-view-versus-a-copy\n",
            "  gofound_100_tuned['model_generated'] = text_outcome\n"
          ]
        }
      ]
    },
    {
      "cell_type": "code",
      "source": [
        "gofound_100_tuned.drop(columns=['emotion'], inplace=True)\n",
        "gofound_100_tuned.head(10)\n",
        "gofound_100_tuned.to_csv('gofound_100_tuned.csv', index=False)"
      ],
      "metadata": {
        "colab": {
          "base_uri": "https://localhost:8080/"
        },
        "id": "2prSGDBu0-AE",
        "outputId": "f4ec7438-f5aa-487f-a018-0171a561bf47"
      },
      "execution_count": null,
      "outputs": [
        {
          "output_type": "stream",
          "name": "stderr",
          "text": [
            "<ipython-input-61-e71fb09b1393>:1: SettingWithCopyWarning: \n",
            "A value is trying to be set on a copy of a slice from a DataFrame\n",
            "\n",
            "See the caveats in the documentation: https://pandas.pydata.org/pandas-docs/stable/user_guide/indexing.html#returning-a-view-versus-a-copy\n",
            "  gofound_100_tuned.drop(columns=['emotion'], inplace=True)\n"
          ]
        }
      ]
    },
    {
      "cell_type": "markdown",
      "source": [
        "## Acknowledgement\n",
        "\n",
        "The homework is developed based on materials from [1], [2], [3], and [4]\n",
        "\n"
      ],
      "metadata": {
        "id": "xGYrNIm_JZhb"
      }
    },
    {
      "cell_type": "code",
      "source": [],
      "metadata": {
        "id": "cuU6tLQTGjzn"
      },
      "execution_count": null,
      "outputs": []
    },
    {
      "cell_type": "code",
      "source": [],
      "metadata": {
        "id": "iE7O_6nrGjxX"
      },
      "execution_count": null,
      "outputs": []
    },
    {
      "cell_type": "code",
      "source": [],
      "metadata": {
        "id": "9AsWvSG8Gju_"
      },
      "execution_count": null,
      "outputs": []
    },
    {
      "cell_type": "code",
      "source": [],
      "metadata": {
        "id": "4PHTm-MwGjsp"
      },
      "execution_count": null,
      "outputs": []
    },
    {
      "cell_type": "code",
      "source": [],
      "metadata": {
        "id": "8XAtKLtEGjqH"
      },
      "execution_count": null,
      "outputs": []
    },
    {
      "cell_type": "code",
      "source": [],
      "metadata": {
        "id": "xAXKr7ZxGjg5"
      },
      "execution_count": null,
      "outputs": []
    },
    {
      "cell_type": "code",
      "source": [],
      "metadata": {
        "id": "63yWu53OGrvW"
      },
      "execution_count": null,
      "outputs": []
    },
    {
      "cell_type": "code",
      "source": [],
      "metadata": {
        "id": "98KPyqX0GrtZ"
      },
      "execution_count": null,
      "outputs": []
    },
    {
      "cell_type": "code",
      "source": [],
      "metadata": {
        "id": "sEVVzQZOGrqn"
      },
      "execution_count": null,
      "outputs": []
    },
    {
      "cell_type": "code",
      "source": [],
      "metadata": {
        "id": "y-H7YfWpGrLC"
      },
      "execution_count": null,
      "outputs": []
    },
    {
      "cell_type": "code",
      "source": [],
      "metadata": {
        "id": "bnfQZDFzGrIQ"
      },
      "execution_count": null,
      "outputs": []
    },
    {
      "cell_type": "code",
      "source": [],
      "metadata": {
        "id": "jp8QBb06G3Jv"
      },
      "execution_count": null,
      "outputs": []
    },
    {
      "cell_type": "code",
      "source": [],
      "metadata": {
        "id": "JmDCG072G3FC"
      },
      "execution_count": null,
      "outputs": []
    },
    {
      "cell_type": "code",
      "source": [],
      "metadata": {
        "id": "DT8o_yU0G3Cf"
      },
      "execution_count": null,
      "outputs": []
    },
    {
      "cell_type": "code",
      "source": [],
      "metadata": {
        "id": "rMOdCBiBG3AH"
      },
      "execution_count": null,
      "outputs": []
    },
    {
      "cell_type": "code",
      "source": [],
      "metadata": {
        "id": "5kzWVK7sG29_"
      },
      "execution_count": null,
      "outputs": []
    },
    {
      "cell_type": "code",
      "source": [],
      "metadata": {
        "id": "YNyeSH-6G27n"
      },
      "execution_count": null,
      "outputs": []
    }
  ]
}